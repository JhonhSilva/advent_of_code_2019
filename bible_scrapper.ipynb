{
  "nbformat": 4,
  "nbformat_minor": 0,
  "metadata": {
    "colab": {
      "name": "bible-scrapper.ipynb",
      "provenance": [],
      "collapsed_sections": [],
      "authorship_tag": "ABX9TyPUCjU/hCq4hjvH9a3b66S4",
      "include_colab_link": true
    },
    "kernelspec": {
      "name": "python3",
      "display_name": "Python 3"
    },
    "language_info": {
      "name": "python"
    }
  },
  "cells": [
    {
      "cell_type": "markdown",
      "metadata": {
        "id": "view-in-github",
        "colab_type": "text"
      },
      "source": [
        "<a href=\"https://colab.research.google.com/github/JhonhSilva/advent_of_code_2019/blob/master/bible_scrapper.ipynb\" target=\"_parent\"><img src=\"https://colab.research.google.com/assets/colab-badge.svg\" alt=\"Open In Colab\"/></a>"
      ]
    },
    {
      "cell_type": "code",
      "source": [
        "import re\n",
        "import requests\n",
        "import pandas as pd\n",
        "from bs4 import BeautifulSoup"
      ],
      "metadata": {
        "id": "BEX6vyxZiRtp"
      },
      "execution_count": null,
      "outputs": []
    },
    {
      "cell_type": "code",
      "source": [
        "books = { 'genesis': 'Gênesis', 'exodo': 'Êxodo', 'levitico': 'Levítico', 'numeros': 'Números', 'deuteronomio': 'Deuteronômio', 'josue': 'Josué', 'juizes': 'Juízes', 'rute': 'Rute', '1-samuel': '1 Samuel', '2-samuel': '2 Samuel', '1-reis': '1 Reis', '2-reis': '2 Reis', '1-cronicas': '1 Crônicas', '2-cronicas': '2 Crônicas', 'esdras': 'Esdras', 'neemias': 'Neemias', 'ester': 'Ester', 'jo': 'Jó', 'salmos': 'Salmos', 'proverbios': 'Provérbios', 'eclesiastes': 'Eclesiastes', 'canticos': 'Cânticos', 'isaias': 'Isaías', 'jeremias': 'Jeremias', 'lamentacoes': 'Lamentações', 'ezequiel': 'Ezequiel', 'daniel': 'Daniel', 'oseias': 'Oséias', 'joel': 'Joel', 'amos': 'Amós', 'obadias': 'Obadias', 'jonas': 'Jonas', 'miqueias': 'Miquéias', 'naum': 'Naum', 'habacuque': 'Habacuque', 'sofonias': 'Sofonias', 'ageu': 'Ageu', 'zacarias': 'Zacarias', 'malaquias': 'Malaquias', 'mateus': 'Mateus', 'marcos': 'Marcos', 'lucas': 'Lucas', 'joao': 'João', 'atos': 'Atos', 'romanos': 'Romanos', '1-corintios': '1 Coríntios', '2-corintios': '2 Coríntios', 'galatas': 'Gálatas', 'efesios': 'Efésios', 'filipenses': 'Filipenses', 'colossenses': 'Colossenses', '1-tessalonicenses': '1 Tessalonicenses', '2-tessalonicenses': '2 Tessalonicenses', '1-timoteo': '1 Timóteo', '2-timoteo': '2 Timóteo', 'tito': 'Tito', 'filemom': 'Filemom', 'hebreus': 'Hebreus', 'tiago': 'Tiago', '1-pedro': '1 Pedro', '2-pedro': '2 Pedro', '1-joao': '1 João', '2-joao': '2 João', '3-joao': '3 João', 'judas': 'Judas', 'apocalipse': 'Apocalipse' }\n",
        "versions = { 'ntlh': 'nova tradução na linguagem de hoje', 'nvi': 'nova versão internacional', 'ar': 'joão ferreira de almeida recebida', 'acf': 'joão ferreira de almeida corrigida fiel' }"
      ],
      "metadata": {
        "id": "LrdZ3aISu4gD"
      },
      "execution_count": null,
      "outputs": []
    },
    {
      "cell_type": "code",
      "source": [
        "for book in books:\n",
        "\n",
        "  chapter = 0\n",
        "  verse = 0\n",
        "  book_dataframe = pd.pandas.DataFrame(columns=['id_livro', 'livro', 'capitulo', 'versiculo', 'source', 'ntlh', 'nvi', 'ar', 'acf'])\n",
        "\n",
        "  while(True):\n",
        "    chapter += 1\n",
        "\n",
        "    while(True):\n",
        "      verse += 1\n",
        "\n",
        "      url = f'https://bo.net.br/pt/ntlh/{book}/{chapter}/{verse}/'\n",
        "      response = requests.get(url)\n",
        "\n",
        "      if response.status_code != 200:\n",
        "        if verse == 1:\n",
        "          chapter = 0\n",
        "        verse = 0\n",
        "        break\n",
        "\n",
        "      text = re.sub(r'>\\s+<', '><', response.text)\n",
        "      soup = BeautifulSoup(text, 'html.parser')\n",
        "      versions = list(soup.find(\"div\", {\"class\": \"col-md-12 versiculos\"}))\n",
        "\n",
        "      ntlh = versions[1].text.strip()\n",
        "      nvi = versions[4].text.strip()\n",
        "      ar = versions[7].text.strip()\n",
        "      acf = versions[10].text.strip()\n",
        "\n",
        "      item = { 'id_livro': book, 'livro': books[book], 'capitulo': chapter, 'versiculo': verse, 'source': url, 'ntlh': ntlh, 'nvi': nvi, 'ar': ar, 'acf': acf }\n",
        "\n",
        "      book_dataframe = book_dataframe.append(item, ignore_index=True)\n",
        "\n",
        "      print(f'{book} {chapter}:{verse}')\n",
        "\n",
        "    if chapter == 0 == verse:\n",
        "      break\n",
        "\n",
        "  book_dataframe.to_csv(f'{book}.tsv', index=False, sep='\\t')"
      ],
      "metadata": {
        "id": "JsqpW16Xxz-7"
      },
      "execution_count": null,
      "outputs": []
    },
    {
      "cell_type": "code",
      "source": [
        ""
      ],
      "metadata": {
        "id": "J_pehS-1Hk7o"
      },
      "execution_count": null,
      "outputs": []
    }
  ]
}